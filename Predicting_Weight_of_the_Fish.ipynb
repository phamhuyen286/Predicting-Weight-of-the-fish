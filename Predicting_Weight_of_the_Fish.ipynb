{
  "nbformat": 4,
  "nbformat_minor": 0,
  "metadata": {
    "colab": {
      "name": "Predicting Weight of the Fish.ipynb",
      "provenance": [],
      "authorship_tag": "ABX9TyM5MEbvOovaYmS9fq5SOmVX",
      "include_colab_link": true
    },
    "kernelspec": {
      "name": "python3",
      "display_name": "Python 3"
    }
  },
  "cells": [
    {
      "cell_type": "markdown",
      "metadata": {
        "id": "view-in-github",
        "colab_type": "text"
      },
      "source": [
        "<a href=\"https://colab.research.google.com/github/phamhuyen286/Predicting-Weight-of-the-fish/blob/main/Predicting_Weight_of_the_Fish.ipynb\" target=\"_parent\"><img src=\"https://colab.research.google.com/assets/colab-badge.svg\" alt=\"Open In Colab\"/></a>"
      ]
    },
    {
      "cell_type": "markdown",
      "metadata": {
        "id": "SAc7Su9ypzAA"
      },
      "source": [
        "# Importing & Understanding dataset"
      ]
    },
    {
      "cell_type": "code",
      "metadata": {
        "colab": {
          "base_uri": "https://localhost:8080/"
        },
        "id": "zCNGsvp7kj9_",
        "outputId": "7539ca72-a9e6-4932-ee0e-d281b80379b4"
      },
      "source": [
        "from google.colab import drive\r\n",
        "drive.mount('/gdrive')"
      ],
      "execution_count": null,
      "outputs": [
        {
          "output_type": "stream",
          "text": [
            "Drive already mounted at /gdrive; to attempt to forcibly remount, call drive.mount(\"/gdrive\", force_remount=True).\n"
          ],
          "name": "stdout"
        }
      ]
    },
    {
      "cell_type": "code",
      "metadata": {
        "id": "UuW4TtwklhgT"
      },
      "source": [
        "import numpy as np                # mathematical calculations\r\n",
        "import pandas as pd               # manipulation of raw data \r\n",
        "import matplotlib.pyplot as plt   # plotting graphs\r\n",
        "%matplotlib inline  "
      ],
      "execution_count": null,
      "outputs": []
    },
    {
      "cell_type": "code",
      "metadata": {
        "id": "HQW6H8Z6lhjt"
      },
      "source": [
        "path ='/gdrive/My Drive/Online_ML : Weekends Nov 2020/Assignments/Data/'"
      ],
      "execution_count": null,
      "outputs": []
    },
    {
      "cell_type": "code",
      "metadata": {
        "id": "D4VBsOWklhpb"
      },
      "source": [
        "fish_data = pd.read_csv(path+'Fish.csv')"
      ],
      "execution_count": null,
      "outputs": []
    },
    {
      "cell_type": "code",
      "metadata": {
        "colab": {
          "base_uri": "https://localhost:8080/",
          "height": 197
        },
        "id": "i2_XIq9_lhsc",
        "outputId": "05b1c5e4-1630-4bdd-d30f-41459e62faee"
      },
      "source": [
        "fish_data.head()"
      ],
      "execution_count": null,
      "outputs": [
        {
          "output_type": "execute_result",
          "data": {
            "text/html": [
              "<div>\n",
              "<style scoped>\n",
              "    .dataframe tbody tr th:only-of-type {\n",
              "        vertical-align: middle;\n",
              "    }\n",
              "\n",
              "    .dataframe tbody tr th {\n",
              "        vertical-align: top;\n",
              "    }\n",
              "\n",
              "    .dataframe thead th {\n",
              "        text-align: right;\n",
              "    }\n",
              "</style>\n",
              "<table border=\"1\" class=\"dataframe\">\n",
              "  <thead>\n",
              "    <tr style=\"text-align: right;\">\n",
              "      <th></th>\n",
              "      <th>Species</th>\n",
              "      <th>Weight</th>\n",
              "      <th>Length1</th>\n",
              "      <th>Length2</th>\n",
              "      <th>Length3</th>\n",
              "      <th>Height</th>\n",
              "      <th>Width</th>\n",
              "    </tr>\n",
              "  </thead>\n",
              "  <tbody>\n",
              "    <tr>\n",
              "      <th>0</th>\n",
              "      <td>Bream</td>\n",
              "      <td>242.0</td>\n",
              "      <td>23.2</td>\n",
              "      <td>25.4</td>\n",
              "      <td>30.0</td>\n",
              "      <td>11.5200</td>\n",
              "      <td>4.0200</td>\n",
              "    </tr>\n",
              "    <tr>\n",
              "      <th>1</th>\n",
              "      <td>Bream</td>\n",
              "      <td>290.0</td>\n",
              "      <td>24.0</td>\n",
              "      <td>26.3</td>\n",
              "      <td>31.2</td>\n",
              "      <td>12.4800</td>\n",
              "      <td>4.3056</td>\n",
              "    </tr>\n",
              "    <tr>\n",
              "      <th>2</th>\n",
              "      <td>Bream</td>\n",
              "      <td>340.0</td>\n",
              "      <td>23.9</td>\n",
              "      <td>26.5</td>\n",
              "      <td>31.1</td>\n",
              "      <td>12.3778</td>\n",
              "      <td>4.6961</td>\n",
              "    </tr>\n",
              "    <tr>\n",
              "      <th>3</th>\n",
              "      <td>Bream</td>\n",
              "      <td>363.0</td>\n",
              "      <td>26.3</td>\n",
              "      <td>29.0</td>\n",
              "      <td>33.5</td>\n",
              "      <td>12.7300</td>\n",
              "      <td>4.4555</td>\n",
              "    </tr>\n",
              "    <tr>\n",
              "      <th>4</th>\n",
              "      <td>Bream</td>\n",
              "      <td>430.0</td>\n",
              "      <td>26.5</td>\n",
              "      <td>29.0</td>\n",
              "      <td>34.0</td>\n",
              "      <td>12.4440</td>\n",
              "      <td>5.1340</td>\n",
              "    </tr>\n",
              "  </tbody>\n",
              "</table>\n",
              "</div>"
            ],
            "text/plain": [
              "  Species  Weight  Length1  Length2  Length3   Height   Width\n",
              "0   Bream   242.0     23.2     25.4     30.0  11.5200  4.0200\n",
              "1   Bream   290.0     24.0     26.3     31.2  12.4800  4.3056\n",
              "2   Bream   340.0     23.9     26.5     31.1  12.3778  4.6961\n",
              "3   Bream   363.0     26.3     29.0     33.5  12.7300  4.4555\n",
              "4   Bream   430.0     26.5     29.0     34.0  12.4440  5.1340"
            ]
          },
          "metadata": {
            "tags": []
          },
          "execution_count": 5
        }
      ]
    },
    {
      "cell_type": "code",
      "metadata": {
        "colab": {
          "base_uri": "https://localhost:8080/"
        },
        "id": "Ys8Tr5ZClhv1",
        "outputId": "e283f0c9-fa46-45e6-9c86-51b5bd2d32cf"
      },
      "source": [
        "fish_data.shape"
      ],
      "execution_count": null,
      "outputs": [
        {
          "output_type": "execute_result",
          "data": {
            "text/plain": [
              "(159, 7)"
            ]
          },
          "metadata": {
            "tags": []
          },
          "execution_count": 6
        }
      ]
    },
    {
      "cell_type": "markdown",
      "metadata": {
        "id": "jSgUbN9xoprJ"
      },
      "source": [
        "The data has 7 columns and 159 row of data. we have to build model to predict weight of the fish from other features. so right now we have 6 features."
      ]
    },
    {
      "cell_type": "code",
      "metadata": {
        "colab": {
          "base_uri": "https://localhost:8080/"
        },
        "id": "a-rbtSFtlhyt",
        "outputId": "1c713945-98c4-44cc-9804-0fb57cc7408a"
      },
      "source": [
        "fish_data.info"
      ],
      "execution_count": null,
      "outputs": [
        {
          "output_type": "execute_result",
          "data": {
            "text/plain": [
              "<bound method DataFrame.info of     Species  Weight  Length1  Length2  Length3   Height   Width\n",
              "0     Bream   242.0     23.2     25.4     30.0  11.5200  4.0200\n",
              "1     Bream   290.0     24.0     26.3     31.2  12.4800  4.3056\n",
              "2     Bream   340.0     23.9     26.5     31.1  12.3778  4.6961\n",
              "3     Bream   363.0     26.3     29.0     33.5  12.7300  4.4555\n",
              "4     Bream   430.0     26.5     29.0     34.0  12.4440  5.1340\n",
              "..      ...     ...      ...      ...      ...      ...     ...\n",
              "154   Smelt    12.2     11.5     12.2     13.4   2.0904  1.3936\n",
              "155   Smelt    13.4     11.7     12.4     13.5   2.4300  1.2690\n",
              "156   Smelt    12.2     12.1     13.0     13.8   2.2770  1.2558\n",
              "157   Smelt    19.7     13.2     14.3     15.2   2.8728  2.0672\n",
              "158   Smelt    19.9     13.8     15.0     16.2   2.9322  1.8792\n",
              "\n",
              "[159 rows x 7 columns]>"
            ]
          },
          "metadata": {
            "tags": []
          },
          "execution_count": 7
        }
      ]
    },
    {
      "cell_type": "code",
      "metadata": {
        "colab": {
          "base_uri": "https://localhost:8080/"
        },
        "id": "vRJ8Olsalh2z",
        "outputId": "34b2627a-cb1b-4d0e-9774-4690ec5c0331"
      },
      "source": [
        "fish_data.dtypes"
      ],
      "execution_count": null,
      "outputs": [
        {
          "output_type": "execute_result",
          "data": {
            "text/plain": [
              "Species     object\n",
              "Weight     float64\n",
              "Length1    float64\n",
              "Length2    float64\n",
              "Length3    float64\n",
              "Height     float64\n",
              "Width      float64\n",
              "dtype: object"
            ]
          },
          "metadata": {
            "tags": []
          },
          "execution_count": 8
        }
      ]
    },
    {
      "cell_type": "markdown",
      "metadata": {
        "id": "TD-RT28TptOJ"
      },
      "source": [
        "# Encoding data"
      ]
    },
    {
      "cell_type": "code",
      "metadata": {
        "id": "luBpwsTnlh5B"
      },
      "source": [
        "# Species column is text so we should encoding this data before processing further\r\n",
        "\r\n",
        "from sklearn.preprocessing import LabelEncoder\r\n",
        "Species_le = LabelEncoder()\r\n",
        "fish_data['Species'] = Species_le.fit_transform(fish_data['Species'])"
      ],
      "execution_count": null,
      "outputs": []
    },
    {
      "cell_type": "code",
      "metadata": {
        "colab": {
          "base_uri": "https://localhost:8080/",
          "height": 347
        },
        "id": "1L8hiSLntKmF",
        "outputId": "e19d556d-d853-478e-f5bb-ec71066cda71"
      },
      "source": [
        "fish_data.head(10)"
      ],
      "execution_count": null,
      "outputs": [
        {
          "output_type": "execute_result",
          "data": {
            "text/html": [
              "<div>\n",
              "<style scoped>\n",
              "    .dataframe tbody tr th:only-of-type {\n",
              "        vertical-align: middle;\n",
              "    }\n",
              "\n",
              "    .dataframe tbody tr th {\n",
              "        vertical-align: top;\n",
              "    }\n",
              "\n",
              "    .dataframe thead th {\n",
              "        text-align: right;\n",
              "    }\n",
              "</style>\n",
              "<table border=\"1\" class=\"dataframe\">\n",
              "  <thead>\n",
              "    <tr style=\"text-align: right;\">\n",
              "      <th></th>\n",
              "      <th>Species</th>\n",
              "      <th>Weight</th>\n",
              "      <th>Length1</th>\n",
              "      <th>Length2</th>\n",
              "      <th>Length3</th>\n",
              "      <th>Height</th>\n",
              "      <th>Width</th>\n",
              "    </tr>\n",
              "  </thead>\n",
              "  <tbody>\n",
              "    <tr>\n",
              "      <th>0</th>\n",
              "      <td>0</td>\n",
              "      <td>242.0</td>\n",
              "      <td>23.2</td>\n",
              "      <td>25.4</td>\n",
              "      <td>30.0</td>\n",
              "      <td>11.5200</td>\n",
              "      <td>4.0200</td>\n",
              "    </tr>\n",
              "    <tr>\n",
              "      <th>1</th>\n",
              "      <td>0</td>\n",
              "      <td>290.0</td>\n",
              "      <td>24.0</td>\n",
              "      <td>26.3</td>\n",
              "      <td>31.2</td>\n",
              "      <td>12.4800</td>\n",
              "      <td>4.3056</td>\n",
              "    </tr>\n",
              "    <tr>\n",
              "      <th>2</th>\n",
              "      <td>0</td>\n",
              "      <td>340.0</td>\n",
              "      <td>23.9</td>\n",
              "      <td>26.5</td>\n",
              "      <td>31.1</td>\n",
              "      <td>12.3778</td>\n",
              "      <td>4.6961</td>\n",
              "    </tr>\n",
              "    <tr>\n",
              "      <th>3</th>\n",
              "      <td>0</td>\n",
              "      <td>363.0</td>\n",
              "      <td>26.3</td>\n",
              "      <td>29.0</td>\n",
              "      <td>33.5</td>\n",
              "      <td>12.7300</td>\n",
              "      <td>4.4555</td>\n",
              "    </tr>\n",
              "    <tr>\n",
              "      <th>4</th>\n",
              "      <td>0</td>\n",
              "      <td>430.0</td>\n",
              "      <td>26.5</td>\n",
              "      <td>29.0</td>\n",
              "      <td>34.0</td>\n",
              "      <td>12.4440</td>\n",
              "      <td>5.1340</td>\n",
              "    </tr>\n",
              "    <tr>\n",
              "      <th>5</th>\n",
              "      <td>0</td>\n",
              "      <td>450.0</td>\n",
              "      <td>26.8</td>\n",
              "      <td>29.7</td>\n",
              "      <td>34.7</td>\n",
              "      <td>13.6024</td>\n",
              "      <td>4.9274</td>\n",
              "    </tr>\n",
              "    <tr>\n",
              "      <th>6</th>\n",
              "      <td>0</td>\n",
              "      <td>500.0</td>\n",
              "      <td>26.8</td>\n",
              "      <td>29.7</td>\n",
              "      <td>34.5</td>\n",
              "      <td>14.1795</td>\n",
              "      <td>5.2785</td>\n",
              "    </tr>\n",
              "    <tr>\n",
              "      <th>7</th>\n",
              "      <td>0</td>\n",
              "      <td>390.0</td>\n",
              "      <td>27.6</td>\n",
              "      <td>30.0</td>\n",
              "      <td>35.0</td>\n",
              "      <td>12.6700</td>\n",
              "      <td>4.6900</td>\n",
              "    </tr>\n",
              "    <tr>\n",
              "      <th>8</th>\n",
              "      <td>0</td>\n",
              "      <td>450.0</td>\n",
              "      <td>27.6</td>\n",
              "      <td>30.0</td>\n",
              "      <td>35.1</td>\n",
              "      <td>14.0049</td>\n",
              "      <td>4.8438</td>\n",
              "    </tr>\n",
              "    <tr>\n",
              "      <th>9</th>\n",
              "      <td>0</td>\n",
              "      <td>500.0</td>\n",
              "      <td>28.5</td>\n",
              "      <td>30.7</td>\n",
              "      <td>36.2</td>\n",
              "      <td>14.2266</td>\n",
              "      <td>4.9594</td>\n",
              "    </tr>\n",
              "  </tbody>\n",
              "</table>\n",
              "</div>"
            ],
            "text/plain": [
              "   Species  Weight  Length1  Length2  Length3   Height   Width\n",
              "0        0   242.0     23.2     25.4     30.0  11.5200  4.0200\n",
              "1        0   290.0     24.0     26.3     31.2  12.4800  4.3056\n",
              "2        0   340.0     23.9     26.5     31.1  12.3778  4.6961\n",
              "3        0   363.0     26.3     29.0     33.5  12.7300  4.4555\n",
              "4        0   430.0     26.5     29.0     34.0  12.4440  5.1340\n",
              "5        0   450.0     26.8     29.7     34.7  13.6024  4.9274\n",
              "6        0   500.0     26.8     29.7     34.5  14.1795  5.2785\n",
              "7        0   390.0     27.6     30.0     35.0  12.6700  4.6900\n",
              "8        0   450.0     27.6     30.0     35.1  14.0049  4.8438\n",
              "9        0   500.0     28.5     30.7     36.2  14.2266  4.9594"
            ]
          },
          "metadata": {
            "tags": []
          },
          "execution_count": 10
        }
      ]
    },
    {
      "cell_type": "code",
      "metadata": {
        "colab": {
          "base_uri": "https://localhost:8080/",
          "height": 197
        },
        "id": "GP5Mpf_3tKXC",
        "outputId": "a6b606d1-04df-49b6-ef00-59f0f4e00b07"
      },
      "source": [
        "fish_data.tail()"
      ],
      "execution_count": null,
      "outputs": [
        {
          "output_type": "execute_result",
          "data": {
            "text/html": [
              "<div>\n",
              "<style scoped>\n",
              "    .dataframe tbody tr th:only-of-type {\n",
              "        vertical-align: middle;\n",
              "    }\n",
              "\n",
              "    .dataframe tbody tr th {\n",
              "        vertical-align: top;\n",
              "    }\n",
              "\n",
              "    .dataframe thead th {\n",
              "        text-align: right;\n",
              "    }\n",
              "</style>\n",
              "<table border=\"1\" class=\"dataframe\">\n",
              "  <thead>\n",
              "    <tr style=\"text-align: right;\">\n",
              "      <th></th>\n",
              "      <th>Species</th>\n",
              "      <th>Weight</th>\n",
              "      <th>Length1</th>\n",
              "      <th>Length2</th>\n",
              "      <th>Length3</th>\n",
              "      <th>Height</th>\n",
              "      <th>Width</th>\n",
              "    </tr>\n",
              "  </thead>\n",
              "  <tbody>\n",
              "    <tr>\n",
              "      <th>154</th>\n",
              "      <td>5</td>\n",
              "      <td>12.2</td>\n",
              "      <td>11.5</td>\n",
              "      <td>12.2</td>\n",
              "      <td>13.4</td>\n",
              "      <td>2.0904</td>\n",
              "      <td>1.3936</td>\n",
              "    </tr>\n",
              "    <tr>\n",
              "      <th>155</th>\n",
              "      <td>5</td>\n",
              "      <td>13.4</td>\n",
              "      <td>11.7</td>\n",
              "      <td>12.4</td>\n",
              "      <td>13.5</td>\n",
              "      <td>2.4300</td>\n",
              "      <td>1.2690</td>\n",
              "    </tr>\n",
              "    <tr>\n",
              "      <th>156</th>\n",
              "      <td>5</td>\n",
              "      <td>12.2</td>\n",
              "      <td>12.1</td>\n",
              "      <td>13.0</td>\n",
              "      <td>13.8</td>\n",
              "      <td>2.2770</td>\n",
              "      <td>1.2558</td>\n",
              "    </tr>\n",
              "    <tr>\n",
              "      <th>157</th>\n",
              "      <td>5</td>\n",
              "      <td>19.7</td>\n",
              "      <td>13.2</td>\n",
              "      <td>14.3</td>\n",
              "      <td>15.2</td>\n",
              "      <td>2.8728</td>\n",
              "      <td>2.0672</td>\n",
              "    </tr>\n",
              "    <tr>\n",
              "      <th>158</th>\n",
              "      <td>5</td>\n",
              "      <td>19.9</td>\n",
              "      <td>13.8</td>\n",
              "      <td>15.0</td>\n",
              "      <td>16.2</td>\n",
              "      <td>2.9322</td>\n",
              "      <td>1.8792</td>\n",
              "    </tr>\n",
              "  </tbody>\n",
              "</table>\n",
              "</div>"
            ],
            "text/plain": [
              "     Species  Weight  Length1  Length2  Length3  Height   Width\n",
              "154        5    12.2     11.5     12.2     13.4  2.0904  1.3936\n",
              "155        5    13.4     11.7     12.4     13.5  2.4300  1.2690\n",
              "156        5    12.2     12.1     13.0     13.8  2.2770  1.2558\n",
              "157        5    19.7     13.2     14.3     15.2  2.8728  2.0672\n",
              "158        5    19.9     13.8     15.0     16.2  2.9322  1.8792"
            ]
          },
          "metadata": {
            "tags": []
          },
          "execution_count": 11
        }
      ]
    },
    {
      "cell_type": "markdown",
      "metadata": {
        "id": "4FLB-P5Qth66"
      },
      "source": [
        "# Features Scaling"
      ]
    },
    {
      "cell_type": "code",
      "metadata": {
        "id": "GnxTXii-tKV_"
      },
      "source": [
        "fish = (fish_data - fish_data.mean())/(fish_data.max()-fish_data.min())"
      ],
      "execution_count": null,
      "outputs": []
    },
    {
      "cell_type": "code",
      "metadata": {
        "colab": {
          "base_uri": "https://localhost:8080/",
          "height": 197
        },
        "id": "UhDll5fBtKCH",
        "outputId": "8efd6de6-fd34-47ef-b335-4ea2ff161a84"
      },
      "source": [
        "fish.head()"
      ],
      "execution_count": null,
      "outputs": [
        {
          "output_type": "execute_result",
          "data": {
            "text/html": [
              "<div>\n",
              "<style scoped>\n",
              "    .dataframe tbody tr th:only-of-type {\n",
              "        vertical-align: middle;\n",
              "    }\n",
              "\n",
              "    .dataframe tbody tr th {\n",
              "        vertical-align: top;\n",
              "    }\n",
              "\n",
              "    .dataframe thead th {\n",
              "        text-align: right;\n",
              "    }\n",
              "</style>\n",
              "<table border=\"1\" class=\"dataframe\">\n",
              "  <thead>\n",
              "    <tr style=\"text-align: right;\">\n",
              "      <th></th>\n",
              "      <th>Species</th>\n",
              "      <th>Weight</th>\n",
              "      <th>Length1</th>\n",
              "      <th>Length2</th>\n",
              "      <th>Length3</th>\n",
              "      <th>Height</th>\n",
              "      <th>Width</th>\n",
              "    </tr>\n",
              "  </thead>\n",
              "  <tbody>\n",
              "    <tr>\n",
              "      <th>0</th>\n",
              "      <td>-0.377358</td>\n",
              "      <td>-0.094743</td>\n",
              "      <td>-0.059168</td>\n",
              "      <td>-0.054831</td>\n",
              "      <td>-0.020727</td>\n",
              "      <td>0.147952</td>\n",
              "      <td>-0.056028</td>\n",
              "    </tr>\n",
              "    <tr>\n",
              "      <th>1</th>\n",
              "      <td>-0.377358</td>\n",
              "      <td>-0.065652</td>\n",
              "      <td>-0.043634</td>\n",
              "      <td>-0.038468</td>\n",
              "      <td>-0.000457</td>\n",
              "      <td>0.203673</td>\n",
              "      <td>-0.015771</td>\n",
              "    </tr>\n",
              "    <tr>\n",
              "      <th>2</th>\n",
              "      <td>-0.377358</td>\n",
              "      <td>-0.035349</td>\n",
              "      <td>-0.045576</td>\n",
              "      <td>-0.034831</td>\n",
              "      <td>-0.002146</td>\n",
              "      <td>0.197741</td>\n",
              "      <td>0.039272</td>\n",
              "    </tr>\n",
              "    <tr>\n",
              "      <th>3</th>\n",
              "      <td>-0.377358</td>\n",
              "      <td>-0.021410</td>\n",
              "      <td>0.001026</td>\n",
              "      <td>0.010623</td>\n",
              "      <td>0.038395</td>\n",
              "      <td>0.218184</td>\n",
              "      <td>0.005358</td>\n",
              "    </tr>\n",
              "    <tr>\n",
              "      <th>4</th>\n",
              "      <td>-0.377358</td>\n",
              "      <td>0.019196</td>\n",
              "      <td>0.004909</td>\n",
              "      <td>0.010623</td>\n",
              "      <td>0.046840</td>\n",
              "      <td>0.201584</td>\n",
              "      <td>0.100997</td>\n",
              "    </tr>\n",
              "  </tbody>\n",
              "</table>\n",
              "</div>"
            ],
            "text/plain": [
              "    Species    Weight   Length1   Length2   Length3    Height     Width\n",
              "0 -0.377358 -0.094743 -0.059168 -0.054831 -0.020727  0.147952 -0.056028\n",
              "1 -0.377358 -0.065652 -0.043634 -0.038468 -0.000457  0.203673 -0.015771\n",
              "2 -0.377358 -0.035349 -0.045576 -0.034831 -0.002146  0.197741  0.039272\n",
              "3 -0.377358 -0.021410  0.001026  0.010623  0.038395  0.218184  0.005358\n",
              "4 -0.377358  0.019196  0.004909  0.010623  0.046840  0.201584  0.100997"
            ]
          },
          "metadata": {
            "tags": []
          },
          "execution_count": 13
        }
      ]
    },
    {
      "cell_type": "markdown",
      "metadata": {
        "id": "kdDdJc5xu6h4"
      },
      "source": [
        "# Seperate X and Y from data"
      ]
    },
    {
      "cell_type": "code",
      "metadata": {
        "id": "D2ITDwh7tKAt"
      },
      "source": [
        "X = fish.drop(columns = ['Weight'])\r\n",
        "y = fish.iloc[:, 1:2]"
      ],
      "execution_count": null,
      "outputs": []
    },
    {
      "cell_type": "code",
      "metadata": {
        "colab": {
          "base_uri": "https://localhost:8080/",
          "height": 197
        },
        "id": "dpQ0E_p7tJ84",
        "outputId": "9721bdc0-1522-4abe-ef2d-cdd064d4d125"
      },
      "source": [
        "X.insert(0,'Bias',1)\r\n",
        "X.head()"
      ],
      "execution_count": null,
      "outputs": [
        {
          "output_type": "execute_result",
          "data": {
            "text/html": [
              "<div>\n",
              "<style scoped>\n",
              "    .dataframe tbody tr th:only-of-type {\n",
              "        vertical-align: middle;\n",
              "    }\n",
              "\n",
              "    .dataframe tbody tr th {\n",
              "        vertical-align: top;\n",
              "    }\n",
              "\n",
              "    .dataframe thead th {\n",
              "        text-align: right;\n",
              "    }\n",
              "</style>\n",
              "<table border=\"1\" class=\"dataframe\">\n",
              "  <thead>\n",
              "    <tr style=\"text-align: right;\">\n",
              "      <th></th>\n",
              "      <th>Bias</th>\n",
              "      <th>Species</th>\n",
              "      <th>Length1</th>\n",
              "      <th>Length2</th>\n",
              "      <th>Length3</th>\n",
              "      <th>Height</th>\n",
              "      <th>Width</th>\n",
              "    </tr>\n",
              "  </thead>\n",
              "  <tbody>\n",
              "    <tr>\n",
              "      <th>0</th>\n",
              "      <td>1</td>\n",
              "      <td>-0.377358</td>\n",
              "      <td>-0.059168</td>\n",
              "      <td>-0.054831</td>\n",
              "      <td>-0.020727</td>\n",
              "      <td>0.147952</td>\n",
              "      <td>-0.056028</td>\n",
              "    </tr>\n",
              "    <tr>\n",
              "      <th>1</th>\n",
              "      <td>1</td>\n",
              "      <td>-0.377358</td>\n",
              "      <td>-0.043634</td>\n",
              "      <td>-0.038468</td>\n",
              "      <td>-0.000457</td>\n",
              "      <td>0.203673</td>\n",
              "      <td>-0.015771</td>\n",
              "    </tr>\n",
              "    <tr>\n",
              "      <th>2</th>\n",
              "      <td>1</td>\n",
              "      <td>-0.377358</td>\n",
              "      <td>-0.045576</td>\n",
              "      <td>-0.034831</td>\n",
              "      <td>-0.002146</td>\n",
              "      <td>0.197741</td>\n",
              "      <td>0.039272</td>\n",
              "    </tr>\n",
              "    <tr>\n",
              "      <th>3</th>\n",
              "      <td>1</td>\n",
              "      <td>-0.377358</td>\n",
              "      <td>0.001026</td>\n",
              "      <td>0.010623</td>\n",
              "      <td>0.038395</td>\n",
              "      <td>0.218184</td>\n",
              "      <td>0.005358</td>\n",
              "    </tr>\n",
              "    <tr>\n",
              "      <th>4</th>\n",
              "      <td>1</td>\n",
              "      <td>-0.377358</td>\n",
              "      <td>0.004909</td>\n",
              "      <td>0.010623</td>\n",
              "      <td>0.046840</td>\n",
              "      <td>0.201584</td>\n",
              "      <td>0.100997</td>\n",
              "    </tr>\n",
              "  </tbody>\n",
              "</table>\n",
              "</div>"
            ],
            "text/plain": [
              "   Bias   Species   Length1   Length2   Length3    Height     Width\n",
              "0     1 -0.377358 -0.059168 -0.054831 -0.020727  0.147952 -0.056028\n",
              "1     1 -0.377358 -0.043634 -0.038468 -0.000457  0.203673 -0.015771\n",
              "2     1 -0.377358 -0.045576 -0.034831 -0.002146  0.197741  0.039272\n",
              "3     1 -0.377358  0.001026  0.010623  0.038395  0.218184  0.005358\n",
              "4     1 -0.377358  0.004909  0.010623  0.046840  0.201584  0.100997"
            ]
          },
          "metadata": {
            "tags": []
          },
          "execution_count": 15
        }
      ]
    },
    {
      "cell_type": "code",
      "metadata": {
        "colab": {
          "base_uri": "https://localhost:8080/"
        },
        "id": "rXabsVjytJ7v",
        "outputId": "25e0dda9-5380-4896-9db2-7a651107ce9e"
      },
      "source": [
        "X.shape, y.shape"
      ],
      "execution_count": null,
      "outputs": [
        {
          "output_type": "execute_result",
          "data": {
            "text/plain": [
              "((159, 7), (159, 1))"
            ]
          },
          "metadata": {
            "tags": []
          },
          "execution_count": 16
        }
      ]
    },
    {
      "cell_type": "markdown",
      "metadata": {
        "id": "TwpJN8-BwYx1"
      },
      "source": [
        "# Splitting the data into the training and testing data"
      ]
    },
    {
      "cell_type": "code",
      "metadata": {
        "id": "qweONcuVtJ3M"
      },
      "source": [
        "from sklearn.model_selection import train_test_split\r\n",
        "X_train, X_test, y_train, y_test = train_test_split(X,y,test_size=0.25)"
      ],
      "execution_count": null,
      "outputs": []
    },
    {
      "cell_type": "code",
      "metadata": {
        "id": "6wDH02MXtJ2A"
      },
      "source": [
        "X_train = np.matrix(X_train)\r\n",
        "y_train = np.matrix(y_train)"
      ],
      "execution_count": null,
      "outputs": []
    },
    {
      "cell_type": "code",
      "metadata": {
        "id": "x9r-Wq5uyNR7"
      },
      "source": [
        "theta = np.matrix(np.zeros(7))"
      ],
      "execution_count": null,
      "outputs": []
    },
    {
      "cell_type": "code",
      "metadata": {
        "colab": {
          "base_uri": "https://localhost:8080/"
        },
        "id": "STb3TPMIyNQe",
        "outputId": "17e9e69c-c046-4cbe-9f1f-cc8080e5aeb4"
      },
      "source": [
        "theta.shape, X_train.shape, y_train.shape, X_test.shape, y_test.shape"
      ],
      "execution_count": null,
      "outputs": [
        {
          "output_type": "execute_result",
          "data": {
            "text/plain": [
              "((1, 7), (119, 7), (119, 1), (40, 7), (40, 1))"
            ]
          },
          "metadata": {
            "tags": []
          },
          "execution_count": 20
        }
      ]
    },
    {
      "cell_type": "markdown",
      "metadata": {
        "id": "ckVUWMru1bhT"
      },
      "source": [
        "# Defining the Error & Gradient Descent Function"
      ]
    },
    {
      "cell_type": "code",
      "metadata": {
        "id": "l1qlYCciyNOi"
      },
      "source": [
        "def computeError(x,y,theta):\r\n",
        "  inner = np.power(((x*theta.T)-y),2)\r\n",
        "  return np.sum(inner)/(2*len(x))"
      ],
      "execution_count": null,
      "outputs": []
    },
    {
      "cell_type": "code",
      "metadata": {
        "colab": {
          "base_uri": "https://localhost:8080/"
        },
        "id": "7oilZ7QayNNC",
        "outputId": "20130b4a-5c5c-4d16-d00b-5ceca8e052f2"
      },
      "source": [
        "computeError(X_train,y_train,theta)"
      ],
      "execution_count": null,
      "outputs": [
        {
          "output_type": "execute_result",
          "data": {
            "text/plain": [
              "0.02671169594239394"
            ]
          },
          "metadata": {
            "tags": []
          },
          "execution_count": 22
        }
      ]
    },
    {
      "cell_type": "code",
      "metadata": {
        "id": "joql-b_AyNLm"
      },
      "source": [
        "learn_rate = 0.001\r\n",
        "iters = 50000\r\n",
        "def gradientDescent(x,y,theta,learn_rate,iters):\r\n",
        "  temp = np.matrix(np.zeros(theta.shape))\r\n",
        "  parameters = theta.shape[1]\r\n",
        "  cost =[]\r\n",
        "\r\n",
        "  for i in range(iters):\r\n",
        "    error = (x*theta.T)-y\r\n",
        "    \r\n",
        "    for j in range(parameters):\r\n",
        "      gradient = np.multiply(error,x[:,j])\r\n",
        "      temp[0,j] = theta[0,j] - ((learn_rate/len(x))*np.sum(gradient))  #assign it to the temp matrix\r\n",
        "    \r\n",
        "    theta = temp \r\n",
        "    cost_iter = computeError(x,y,theta)\r\n",
        "\r\n",
        "    cost.append(cost_iter)\r\n",
        "\r\n",
        "  return theta,cost\r\n"
      ],
      "execution_count": null,
      "outputs": []
    },
    {
      "cell_type": "code",
      "metadata": {
        "id": "ol3WEqGgyNBb"
      },
      "source": [
        "new_theta,cost = gradientDescent(X_train,y_train,theta,learn_rate,iters)\r\n"
      ],
      "execution_count": null,
      "outputs": []
    },
    {
      "cell_type": "markdown",
      "metadata": {
        "id": "qGIGGAEejvkS"
      },
      "source": [
        "Plot between cost & number of iterations"
      ]
    },
    {
      "cell_type": "code",
      "metadata": {
        "colab": {
          "base_uri": "https://localhost:8080/",
          "height": 482
        },
        "id": "6z5Pb5-3yM-9",
        "outputId": "5a1aa98e-e9b5-4ca5-d91e-b2c825347391"
      },
      "source": [
        "fig, ax = plt.subplots(figsize=(12,8))\r\n",
        "ax.plot(np.arange(iters),cost,'g')\r\n",
        "ax.legend(loc=2)\r\n",
        "ax.set_xlabel('Iterations')\r\n",
        "ax.set_ylabel('Cost')\r\n",
        "ax.set_title('Error Vs Iterations')"
      ],
      "execution_count": null,
      "outputs": [
        {
          "output_type": "stream",
          "text": [
            "No handles with labels found to put in legend.\n"
          ],
          "name": "stderr"
        },
        {
          "output_type": "execute_result",
          "data": {
            "text/plain": [
              "Text(0.5, 1.0, 'Error Vs Iterations')"
            ]
          },
          "metadata": {
            "tags": []
          },
          "execution_count": 26
        },
        {
          "output_type": "display_data",
          "data": {
            "image/png": "[encoded data removed]",
            "text/plain": [
              "<Figure size 864x576 with 1 Axes>"
            ]
          },
          "metadata": {
            "tags": [],
            "needs_background": "light"
          }
        }
      ]
    },
    {
      "cell_type": "code",
      "metadata": {
        "id": "hjA1S7AJyM8V"
      },
      "source": [
        "#PREDECTING TRAINING DATASET\r\n",
        "\r\n",
        "Train_model_weight = X_train *new_theta.T\r\n"
      ],
      "execution_count": null,
      "outputs": []
    },
    {
      "cell_type": "code",
      "metadata": {
        "id": "Z5py8-tryM6W"
      },
      "source": [
        "#PREDECTING Test DATASET\r\n",
        "X_test = np.matrix(X_test)\r\n",
        "y_test = np.matrix(y_test)\r\n",
        "Test_model_weight = X_test * new_theta.T\r\n"
      ],
      "execution_count": null,
      "outputs": []
    },
    {
      "cell_type": "code",
      "metadata": {
        "id": "n9sReuORyMx2"
      },
      "source": [
        "Test_model_weight"
      ],
      "execution_count": null,
      "outputs": []
    },
    {
      "cell_type": "markdown",
      "metadata": {
        "id": "CGAMPg87ma3-"
      },
      "source": [
        "# Computation of error and accuracy for training data & test data"
      ]
    },
    {
      "cell_type": "code",
      "metadata": {
        "colab": {
          "base_uri": "https://localhost:8080/"
        },
        "id": "h9KnH7XUyMul",
        "outputId": "e5585f82-c8e8-4198-9b3a-8c1d180ea7fe"
      },
      "source": [
        "from sklearn.metrics import mean_absolute_error\r\n",
        "\r\n",
        "#Train\r\n",
        "Train_error = mean_absolute_error(Train_model_weight, y_train)\r\n",
        "Train_accuracy = 1 - Train_error\r\n",
        "\r\n",
        "print('Train error ={} % '.format((round(Train_error*100,2))))\r\n",
        "print('Train accuacy ={} % '.format((round(Train_accuracy*100,2))))\r\n",
        "\r\n"
      ],
      "execution_count": null,
      "outputs": [
        {
          "output_type": "stream",
          "text": [
            "Train error =5.53 % \n",
            "Train accuacy =94.47 % \n"
          ],
          "name": "stdout"
        }
      ]
    },
    {
      "cell_type": "code",
      "metadata": {
        "colab": {
          "base_uri": "https://localhost:8080/"
        },
        "id": "hd3xtK_eyMRf",
        "outputId": "b25c80e4-d54b-433c-9dac-20bef0f5c44d"
      },
      "source": [
        "#Test\r\n",
        "Test_error = mean_absolute_error(Test_model_weight, y_test)\r\n",
        "Test_accuracy =  1 - Test_error\r\n",
        "\r\n",
        "print('Test_error ={} % '.format((round(Test_error*100,2))))\r\n",
        "print('Test accuracy ={} % '.format((round(Test_accuracy*100,2))))"
      ],
      "execution_count": null,
      "outputs": [
        {
          "output_type": "stream",
          "text": [
            "Test_error =6.72 % \n",
            "Test accuracy =93.28 % \n"
          ],
          "name": "stdout"
        }
      ]
    },
    {
      "cell_type": "code",
      "metadata": {
        "colab": {
          "base_uri": "https://localhost:8080/"
        },
        "id": "wlHqw3patJyr",
        "outputId": "45805a7f-66b0-499e-a2a2-31e512158c30"
      },
      "source": [
        "from sklearn.linear_model import LinearRegression\r\n",
        "\r\n",
        "model = LinearRegression()\r\n",
        "\r\n",
        "model.fit(X_train, y_train)"
      ],
      "execution_count": null,
      "outputs": [
        {
          "output_type": "execute_result",
          "data": {
            "text/plain": [
              "LinearRegression(copy_X=True, fit_intercept=True, n_jobs=None, normalize=False)"
            ]
          },
          "metadata": {
            "tags": []
          },
          "execution_count": 34
        }
      ]
    },
    {
      "cell_type": "code",
      "metadata": {
        "colab": {
          "base_uri": "https://localhost:8080/"
        },
        "id": "SgJvOhPEtJwv",
        "outputId": "7b6597ce-09ce-4770-c745-2445a1c8a051"
      },
      "source": [
        "y_train_pred = model.predict(X_train)\r\n",
        "train_score = model.score(X_train, y_train)\r\n",
        "train_score"
      ],
      "execution_count": null,
      "outputs": [
        {
          "output_type": "execute_result",
          "data": {
            "text/plain": [
              "0.9078066159224003"
            ]
          },
          "metadata": {
            "tags": []
          },
          "execution_count": 35
        }
      ]
    },
    {
      "cell_type": "code",
      "metadata": {
        "colab": {
          "base_uri": "https://localhost:8080/"
        },
        "id": "mYxOon0AyPW9",
        "outputId": "56e9003d-a2a3-4206-9ada-cd20e7335e0c"
      },
      "source": [
        "y_test_pred = model.predict(X_test)\r\n",
        "test_score = model.score(X_test, y_test)\r\n",
        "test_score"
      ],
      "execution_count": null,
      "outputs": [
        {
          "output_type": "execute_result",
          "data": {
            "text/plain": [
              "0.7823859196644681"
            ]
          },
          "metadata": {
            "tags": []
          },
          "execution_count": 36
        }
      ]
    },
    {
      "cell_type": "code",
      "metadata": {
        "colab": {
          "base_uri": "https://localhost:8080/"
        },
        "id": "envYtKQKyPVN",
        "outputId": "aabd71e8-0637-4dd1-935f-c08c3fffd416"
      },
      "source": [
        "y_train_pred.shape"
      ],
      "execution_count": null,
      "outputs": [
        {
          "output_type": "execute_result",
          "data": {
            "text/plain": [
              "(119, 1)"
            ]
          },
          "metadata": {
            "tags": []
          },
          "execution_count": 41
        }
      ]
    },
    {
      "cell_type": "code",
      "metadata": {
        "id": "_0BrHtYuyPRH"
      },
      "source": [
        ""
      ],
      "execution_count": null,
      "outputs": []
    },
    {
      "cell_type": "code",
      "metadata": {
        "id": "LN0lXmfoyPOq"
      },
      "source": [
        ""
      ],
      "execution_count": null,
      "outputs": []
    },
    {
      "cell_type": "code",
      "metadata": {
        "id": "lNPGjI2AyPME"
      },
      "source": [
        ""
      ],
      "execution_count": null,
      "outputs": []
    },
    {
      "cell_type": "code",
      "metadata": {
        "id": "b1-EhN6myPAh"
      },
      "source": [
        ""
      ],
      "execution_count": null,
      "outputs": []
    },
    {
      "cell_type": "code",
      "metadata": {
        "id": "Eoc5CKnQyO9T"
      },
      "source": [
        ""
      ],
      "execution_count": null,
      "outputs": []
    }
  ]
}